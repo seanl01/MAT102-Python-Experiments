{
 "cells": [
  {
   "cell_type": "code",
   "execution_count": 14,
   "metadata": {},
   "outputs": [
    {
     "name": "stdout",
     "output_type": "stream",
     "text": [
      "{1, 2, 3, 4, 5} {9, 10, 3, 6}\n"
     ]
    }
   ],
   "source": [
    "import inspect\n",
    "S = {i for i in range(1, 6)}\n",
    "T = {i * 3 for i in range(1, 4)}.union({10})\n",
    "\n",
    "print(S, T)"
   ]
  },
  {
   "cell_type": "code",
   "execution_count": 46,
   "metadata": {},
   "outputs": [
    {
     "name": "stdout",
     "output_type": "stream",
     "text": [
      "{'injective': False, 'surjective': True, 'bijective': False}\n"
     ]
    }
   ],
   "source": [
    "import itertools\n",
    "from typing import Any, Callable, List, Set\n",
    "\n",
    "\n",
    "def test_fn_type(domain: Set[Any], codomain: Set[Any], relation: Callable[[Any], Any]) -> dict[str, bool]:\n",
    "    types = {\n",
    "        \"injective\": True,\n",
    "        \"surjective\": True,\n",
    "        \"bijective\": False\n",
    "    }\n",
    "\n",
    "    # check that relation is functional\n",
    "    for s in domain:\n",
    "        if not relation(s) in codomain:\n",
    "            raise Exception(\"Not left-total\")\n",
    "\n",
    "    # Test injectivity\n",
    "    seen_outputs = set()\n",
    "    for s in domain:\n",
    "        if relation(s) in seen_outputs:\n",
    "            types[\"injective\"] = False\n",
    "\n",
    "        seen_outputs.add(relation(s))\n",
    "\n",
    "    # Test surjectivity\n",
    "    types[\"surjective\"] = len(seen_outputs) == len(codomain)\n",
    "\n",
    "    # Test bijectivity\n",
    "    types[\"bijective\"] = types[\"injective\"] and types[\"surjective\"]\n",
    "\n",
    "    return types\n",
    "        \n",
    "\n",
    "def fn(s):\n",
    "    if s < 4:\n",
    "        return s * 3\n",
    "    return 10\n",
    "\n",
    "print(test_fn_type(S, T, fn))\n",
    "\n",
    "\n",
    "A = {\"🐈\", \"🐕\"}\n",
    "B = {\"🐈🐕\", \"🐕🐈\"}\n",
    "\n",
    "# def make_recursive_set(base: set, constructors: List[Callable]):\n",
    "#     while True:\n",
    "#         # call constructor\n",
    "#         for elem in base:\n",
    "#             # add new elements to set\n",
    "#             base = base.union({con(elem) for con in constructors})\n",
    "#         yield base\n",
    "\n",
    "\n",
    "def is_unary(fn: Callable):\n",
    "    return len(inspect.signature(fn).parameters) == 1\n",
    "\n",
    "def make_recursive_set(base: set, constructors: List[Callable[[Any, Any], Any]]):\n",
    "    while True:\n",
    "        \n",
    "        # # split constructors into unary and binary ones\n",
    "        # unary_cons, binary_cons = [], []\n",
    "        # for con in constructors:\n",
    "        #     if is_unary(con):\n",
    "        #         unary_cons.append(con)\n",
    "        #     else:\n",
    "        #         binary_cons.append(con)\n",
    "        \n",
    "        # Every pair in cartesian product\n",
    "        product = itertools.product(base, base)\n",
    "\n",
    "        for x, y in product:\n",
    "            new_elems = {con(x)\n",
    "                        if is_unary(con)\n",
    "                        else con(x, y) for con in constructors}\n",
    "\n",
    "            base = base.union(new_elems)\n",
    "\n",
    "        yield base"
   ]
  },
  {
   "cell_type": "code",
   "execution_count": 45,
   "metadata": {},
   "outputs": [
    {
     "name": "stdout",
     "output_type": "stream",
     "text": [
      "['', '♡♣']\n",
      "['', '♡♡♣♣', '♡♡♣♣♡♣', '♡♣', '♡♣♡♣']\n"
     ]
    }
   ],
   "source": [
    "A = set([\"\"])\n",
    "\n",
    "constructed = make_recursive_set(A, [lambda x, y: f\"♡{x}♣{y}\"])\n",
    "\n",
    "print(sorted(next(constructed)))\n",
    "print(sorted(next(constructed)))\n",
    "\n",
    "items = list(next(constructed))\n",
    "\n",
    "for item in items:\n",
    "    assert item.count(\"♡\") == item.count(\"♣\"), \"Unequal length\"\n"
   ]
  },
  {
   "cell_type": "code",
   "execution_count": null,
   "metadata": {},
   "outputs": [],
   "source": []
  }
 ],
 "metadata": {
  "kernelspec": {
   "display_name": "ds_env",
   "language": "python",
   "name": "python3"
  },
  "language_info": {
   "codemirror_mode": {
    "name": "ipython",
    "version": 3
   },
   "file_extension": ".py",
   "mimetype": "text/x-python",
   "name": "python",
   "nbconvert_exporter": "python",
   "pygments_lexer": "ipython3",
   "version": "3.9.7"
  }
 },
 "nbformat": 4,
 "nbformat_minor": 2
}
